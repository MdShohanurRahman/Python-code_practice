{
 "cells": [
  {
   "cell_type": "markdown",
   "metadata": {},
   "source": [
    "## <a href=\"http://www.progkriya.org/gyan/basic-number-theory.html\" > Basic_Number_Theory </a>"
   ]
  },
  {
   "cell_type": "markdown",
   "metadata": {},
   "source": [
    "## Decimal to Binary"
   ]
  },
  {
   "cell_type": "code",
   "execution_count": 12,
   "metadata": {},
   "outputs": [
    {
     "name": "stdout",
     "output_type": "stream",
     "text": [
      "100010"
     ]
    }
   ],
   "source": [
    "# Function to print binary number using recursion\n",
    "def convertToBinary(n):\n",
    "   if n > 1:\n",
    "       convertToBinary(n//2)\n",
    "   print(n % 2,end = '')\n",
    "# decimal number\n",
    "dec = 34\n",
    "convertToBinary(dec)"
   ]
  },
  {
   "cell_type": "markdown",
   "metadata": {},
   "source": [
    "# <a href=\"https://www.programiz.com/python-programming/examples/decimal-binary-recursion\"> click </a>"
   ]
  },
  {
   "cell_type": "code",
   "execution_count": 9,
   "metadata": {},
   "outputs": [],
   "source": [
    "def dec_to_binary(n):\n",
    "    lst = []\n",
    "    while (n>0):\n",
    "        rem = n %2\n",
    "        lst.append(rem)\n",
    "        n = n//2\n",
    "        \n",
    "    for i in reversed(lst):\n",
    "        print(i,end='')\n"
   ]
  },
  {
   "cell_type": "code",
   "execution_count": 10,
   "metadata": {},
   "outputs": [
    {
     "name": "stdout",
     "output_type": "stream",
     "text": [
      "100010"
     ]
    }
   ],
   "source": [
    "dec_to_binary(34)"
   ]
  },
  {
   "cell_type": "code",
   "execution_count": null,
   "metadata": {},
   "outputs": [],
   "source": []
  },
  {
   "cell_type": "markdown",
   "metadata": {},
   "source": [
    "## Prime number trial division method"
   ]
  },
  {
   "cell_type": "code",
   "execution_count": 28,
   "metadata": {},
   "outputs": [
    {
     "name": "stdout",
     "output_type": "stream",
     "text": [
      "11 is a prime number\n"
     ]
    }
   ],
   "source": [
    "# Python program to check if  \n",
    "# given number is prime or not \n",
    "  \n",
    "num = 11\n",
    "  \n",
    "# If given number is greater than 1 \n",
    "if num > 1: \n",
    "      \n",
    "   # Iterate from 2 to n / 2  \n",
    "   for i in range(2, num//2): \n",
    "         \n",
    "       # If num is divisible by any number between  \n",
    "       # 2 and n / 2, it is not prime  \n",
    "       if (num % i) == 0: \n",
    "           print(num, \"is not a prime number\") \n",
    "           break\n",
    "   else: \n",
    "       print(num, \"is a prime number\") \n",
    "  \n",
    "else: \n",
    "   print(num, \"is not a prime number\") "
   ]
  },
  {
   "cell_type": "code",
   "execution_count": null,
   "metadata": {},
   "outputs": [],
   "source": []
  },
  {
   "cell_type": "markdown",
   "metadata": {},
   "source": [
    "## Sieve of Eratosthenes"
   ]
  },
  {
   "cell_type": "code",
   "execution_count": 51,
   "metadata": {},
   "outputs": [
    {
     "name": "stdout",
     "output_type": "stream",
     "text": [
      "Following are the prime numbers smaller than or equal to 30\n",
      "2\n",
      "3\n",
      "5\n",
      "7\n",
      "11\n",
      "13\n",
      "17\n",
      "19\n",
      "23\n",
      "29\n"
     ]
    }
   ],
   "source": [
    "# Python program to print all primes smaller than or equal to \n",
    "# n using Sieve of Eratosthenes \n",
    "  \n",
    "def SieveOfEratosthenes(n): \n",
    "      \n",
    "    # Create a boolean array \"prime[0..n]\" and initialize \n",
    "    # all entries it as true. A value in prime[i] will \n",
    "    # finally be false if i is Not a prime, else true. \n",
    "    prime = [True for i in range(n + 1)]\n",
    "\n",
    "    p = 2\n",
    "    while (p * p <= n): \n",
    "          \n",
    "        # If prime[p] is not changed, then it is a prime \n",
    "        if (prime[p] == True): \n",
    "              \n",
    "            # Update all multiples of p \n",
    "            for i in range(p * 2, n + 1, p): \n",
    "                prime[i] = False\n",
    "\n",
    "        p += 1\n",
    "        \n",
    "    prime[0]= False\n",
    "    prime[1]= False\n",
    "    # Print all prime numbers \n",
    "    for p in range(n + 1): \n",
    "        if prime[p]: \n",
    "            print(p), \n",
    "  \n",
    "# driver program \n",
    "if __name__=='__main__': \n",
    "    n = 30\n",
    "    print (\"Following are the prime numbers smaller than or equal to\",n), \n",
    "\n",
    "    SieveOfEratosthenes(n) "
   ]
  },
  {
   "cell_type": "code",
   "execution_count": null,
   "metadata": {},
   "outputs": [],
   "source": []
  },
  {
   "cell_type": "markdown",
   "metadata": {},
   "source": [
    "## Segmented Sieve"
   ]
  },
  {
   "cell_type": "code",
   "execution_count": 54,
   "metadata": {},
   "outputs": [
    {
     "name": "stdout",
     "output_type": "stream",
     "text": [
      "11 13 17 19 23 29 31 37 41 43 47 53 59 61 67 71 73 79 83 89 97 "
     ]
    }
   ],
   "source": [
    "# Python program to print print all primes in a range  \n",
    "# using concept of Segmented Sieve  \n",
    "from math import floor, sqrt \n",
    "   \n",
    "   \n",
    "# This functions finds all primes smaller than limit  \n",
    "# using simple sieve of eratosthenes.  It stores found  \n",
    "# primes in list prime[]  \n",
    "def simpleSieve(limit, primes): \n",
    "    mark = [False]*(limit+1) \n",
    "      \n",
    "    for i in range(2, limit+1): \n",
    "        if not mark[i]: \n",
    "            # If not marked yet, then its a prime \n",
    "            primes.append(i) \n",
    "            for j in range(i, limit+1, i): \n",
    "                mark[j] = True\n",
    "  \n",
    "  \n",
    "# Finds all prime numbers in given range using  \n",
    "# segmented sieve \n",
    "def primesInRange(low, high): \n",
    "      \n",
    "    # Comput all primes smaller or equal to  \n",
    "    # square root of high using simple sieve  \n",
    "    limit = floor(sqrt(high)) + 1\n",
    "    primes = list() \n",
    "    simpleSieve(limit, primes) \n",
    "  \n",
    "    # Count of elements in given range  \n",
    "    n = high - low + 1\n",
    "      \n",
    "    # Declaring boolean only for [low, high] \n",
    "    mark = [False]*(n+1) \n",
    "  \n",
    "    # Use the found primes by simpleSieve() to find  \n",
    "    # primes in given range \n",
    "    for i in range(len(primes)): \n",
    "        # Find the minimum number in [low..high] that is  \n",
    "        # a multiple of prime[i] (divisible by prime[i])  \n",
    "        loLim = floor(low/primes[i]) * primes[i] \n",
    "        if loLim < low: \n",
    "            loLim += primes[i] \n",
    "        if loLim == primes[i]: \n",
    "            loLim += primes[i] \n",
    "  \n",
    "        # Mark multiples of primes[i] in [low..high]:   \n",
    "        # We are marking j - low for j, i.e. each number   \n",
    "        # in range [low, high] is mapped to [0, high-low]   \n",
    "        # so if range is [50, 100] marking 50 corresponds   \n",
    "        # to marking 0, marking 51 corresponds to 1 and   \n",
    "        # so on. In this way we need to allocate space   \n",
    "        # only for range  \n",
    "        for j in range(loLim, high+1, primes[i]): \n",
    "            mark[j-low] = True\n",
    "  \n",
    "    # Numbers which are not marked in range, are prime   \n",
    "    for i in range(low, high+1): \n",
    "        if not mark[i-low]: \n",
    "            print(i, end = \" \") \n",
    "  \n",
    "  \n",
    "  \n",
    "# Driver program to test above function \n",
    "low = 10\n",
    "high = 100\n",
    "primesInRange(low, high) "
   ]
  },
  {
   "cell_type": "markdown",
   "metadata": {},
   "source": [
    "## Finding the factors of a number"
   ]
  },
  {
   "cell_type": "code",
   "execution_count": 41,
   "metadata": {},
   "outputs": [
    {
     "name": "stdout",
     "output_type": "stream",
     "text": [
      "The factors of 320 are:\n",
      "1\n",
      "2\n",
      "4\n",
      "5\n",
      "8\n",
      "10\n",
      "16\n"
     ]
    }
   ],
   "source": [
    "# Python Program to find the factors of a number\n",
    "# This function computes the factor of the argument passed\n",
    "def print_factors(x):\n",
    "   print(\"The factors of\",x,\"are:\")\n",
    "   for i in range(1, x + 1):\n",
    "       if x % i == 0:\n",
    "           print(i)\n",
    "num = 320\n",
    "print_factors(num)"
   ]
  },
  {
   "cell_type": "code",
   "execution_count": 64,
   "metadata": {},
   "outputs": [],
   "source": [
    "import math\n",
    "\n",
    "def find_factors(num):\n",
    "    my_list1 = []\n",
    "    my_list2 = []\n",
    "    sqr_rt = int(num**.5)\n",
    "    for i in range(1,sqr_rt+1):\n",
    "        if num % i ==0:\n",
    "            my_list1.append(i)\n",
    "            if (i != sqr_rt):\n",
    "                my_list2.append(num//i)\n",
    "    \n",
    "    for i,j in zip(my_list1,my_list2):\n",
    "        print(\"({},{})\".format(i,j))\n",
    "            "
   ]
  },
  {
   "cell_type": "code",
   "execution_count": 65,
   "metadata": {},
   "outputs": [
    {
     "name": "stdout",
     "output_type": "stream",
     "text": [
      "(1,320)\n",
      "(2,160)\n",
      "(4,80)\n",
      "(5,64)\n",
      "(8,40)\n",
      "(10,32)\n",
      "(16,20)\n"
     ]
    }
   ],
   "source": [
    "find_factors(320)"
   ]
  },
  {
   "cell_type": "code",
   "execution_count": null,
   "metadata": {},
   "outputs": [],
   "source": []
  },
  {
   "cell_type": "markdown",
   "metadata": {},
   "source": [
    "## Prime Factorization Of a Number\n",
    "## <a href = \"http://lightoj.com/article_show.php?article=1002&language=english&type=pdf\">see more</a>"
   ]
  },
  {
   "cell_type": "code",
   "execution_count": 37,
   "metadata": {},
   "outputs": [],
   "source": [
    "import math\n",
    "\n",
    "def prime_factorization(n):\n",
    "    sqr_rt = int(math.sqrt(n))\n",
    "    for i in range(2,sqr_rt+1):\n",
    "        if (n%i==0):\n",
    "            count = 0\n",
    "             # while i divides n , print i and reduce n \n",
    "            while(n%i==0):\n",
    "                n = n//i\n",
    "                count += 1\n",
    "            print(\"{}^{}\".format(i,count))\n",
    "    \n",
    "    # outside the for loop n is either 1 or prime number\n",
    "    if (n!=1):\n",
    "        print(\"{}^{}\".format(n,1))\n",
    "        \n",
    "            "
   ]
  },
  {
   "cell_type": "code",
   "execution_count": 39,
   "metadata": {},
   "outputs": [
    {
     "name": "stdout",
     "output_type": "stream",
     "text": [
      "2^2\n",
      "11^1\n"
     ]
    }
   ],
   "source": [
    "prime_factorization(44)"
   ]
  },
  {
   "cell_type": "code",
   "execution_count": null,
   "metadata": {},
   "outputs": [],
   "source": []
  },
  {
   "cell_type": "markdown",
   "metadata": {},
   "source": [
    "## GCD\n",
    "GCD হচ্ছে Greatest Common Divisor। বাংলায় আমরা এটাকে বলি গ.সা.গু - গরিষ্ঠ সাধারণ গুণনীয়ক। যদি gcd(a,b)=x হয় তাহলে x হচ্ছে সবচে' বড় সংখ্যা যেটা a আর b দুটাকেই নি:শেষে ভাগ করতে পারে।"
   ]
  },
  {
   "cell_type": "code",
   "execution_count": 53,
   "metadata": {},
   "outputs": [
    {
     "name": "stdout",
     "output_type": "stream",
     "text": [
      "The gcd of 60 and 48 is : 5\n"
     ]
    }
   ],
   "source": [
    "# Python code to demonstrate naive \n",
    "# method to compute gcd ( recursion ) \n",
    "  \n",
    "def gcd(a,b): \n",
    "    if a == 0: \n",
    "        return b \n",
    "    return gcd(b % a, a) \n",
    "      \n",
    "# prints 5 \n",
    "print (\"The gcd of 60 and 48 is : \",end=\"\") \n",
    "print (gcd(15,20))"
   ]
  },
  {
   "cell_type": "code",
   "execution_count": null,
   "metadata": {},
   "outputs": [],
   "source": []
  },
  {
   "cell_type": "code",
   "execution_count": 44,
   "metadata": {},
   "outputs": [
    {
     "name": "stdout",
     "output_type": "stream",
     "text": [
      "The gcd of 60 and 48 is : 12\n"
     ]
    }
   ],
   "source": [
    "# Python code to demonstrate naive \n",
    "# method to compute gcd ( Loops ) \n",
    "  \n",
    "def computeGCD(x, y): \n",
    "  \n",
    "    if x > y: \n",
    "        small = y \n",
    "    else: \n",
    "        small = x \n",
    "    for i in range(1, small+1): \n",
    "        if((x % i == 0) and (y % i == 0)): \n",
    "            gcd = i \n",
    "              \n",
    "    return gcd \n",
    "  \n",
    "a = 60\n",
    "b= 48\n",
    "  \n",
    "# prints 12 \n",
    "print (\"The gcd of 60 and 48 is : \",end=\"\") \n",
    "print (computeGCD(60,48))"
   ]
  },
  {
   "cell_type": "code",
   "execution_count": null,
   "metadata": {},
   "outputs": [],
   "source": []
  },
  {
   "cell_type": "markdown",
   "metadata": {},
   "source": [
    "# LCM\n",
    "LCM হচ্ছে Least Common Multiple। বাংলায়, ল.সা.গু - লঘিষ্ঠ সাধারণ গুণিতক। যদি lcm(a,b)=x হয় তাহলে x হচ্ছে সবচে' ছোট সংখ্যা যেটা a আর b দুটারই মাল্টিপল।\n",
    "\n",
    "   a x b = LCM(a, b) * GCD (a, b)\n",
    "\n",
    "   LCM(a, b) = (a x b) / GCD(a, b) "
   ]
  },
  {
   "cell_type": "code",
   "execution_count": 46,
   "metadata": {},
   "outputs": [
    {
     "name": "stdout",
     "output_type": "stream",
     "text": [
      "LCM of 15 and 20 is 60.0\n"
     ]
    }
   ],
   "source": [
    "# Python program to find LCM of two numbers \n",
    "  \n",
    "# Recursive function to return gcd of a and b \n",
    "def gcd(a,b): \n",
    "    if a == 0: \n",
    "        return b \n",
    "    return gcd(b % a, a) \n",
    "  \n",
    "# Function to return LCM of two numbers \n",
    "def lcm(a,b): \n",
    "    return (a*b) / gcd(a,b) \n",
    "  \n",
    "# Driver program to test above function \n",
    "a = 15 \n",
    "b = 20\n",
    "print('LCM of', a, 'and', b, 'is', lcm(a, b)) \n",
    "  \n",
    "# This code is contributed by Danish Raza "
   ]
  },
  {
   "cell_type": "code",
   "execution_count": null,
   "metadata": {},
   "outputs": [],
   "source": []
  }
 ],
 "metadata": {
  "kernelspec": {
   "display_name": "Python 3",
   "language": "python",
   "name": "python3"
  },
  "language_info": {
   "codemirror_mode": {
    "name": "ipython",
    "version": 3
   },
   "file_extension": ".py",
   "mimetype": "text/x-python",
   "name": "python",
   "nbconvert_exporter": "python",
   "pygments_lexer": "ipython3",
   "version": "3.7.4"
  }
 },
 "nbformat": 4,
 "nbformat_minor": 4
}
