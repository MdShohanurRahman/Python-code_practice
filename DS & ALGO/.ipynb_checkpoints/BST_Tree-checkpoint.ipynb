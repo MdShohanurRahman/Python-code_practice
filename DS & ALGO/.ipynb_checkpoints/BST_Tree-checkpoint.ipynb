{
 "cells": [
  {
   "cell_type": "markdown",
   "metadata": {},
   "source": [
    "## BST Insertion and Search"
   ]
  },
  {
   "cell_type": "code",
   "execution_count": 34,
   "metadata": {},
   "outputs": [
    {
     "name": "stdout",
     "output_type": "stream",
     "text": [
      "20\n",
      "30\n",
      "40\n",
      "50\n",
      "60\n",
      "70\n",
      "80\n"
     ]
    }
   ],
   "source": [
    "# A utility class that represents an individual node in a BST \n",
    "class Node: \n",
    "    def __init__(self,key): \n",
    "        self.left = None\n",
    "        self.right = None\n",
    "        self.val = key\n",
    "    \n",
    "    def __repr__(self):\n",
    "        return repr(self.val)\n",
    "\n",
    "# A utility function to insert a new node with the given key \n",
    "def insert(root,node): \n",
    "    if root is None: \n",
    "        root = node \n",
    "    else: \n",
    "        if root.val < node.val: \n",
    "            if root.right is None: \n",
    "                root.right = node \n",
    "            else: \n",
    "                insert(root.right, node) \n",
    "        else: \n",
    "            if root.left is None: \n",
    "                root.left = node \n",
    "            else: \n",
    "                insert(root.left, node)\n",
    "    return root \n",
    "\n",
    "                \n",
    "# A utility function to search a given key in BST \n",
    "def search(root,key): \n",
    "      \n",
    "    # Base Cases: root is null or key is present at root \n",
    "    if root is None or root.val == key: \n",
    "        return root \n",
    "  \n",
    "    # Key is greater than root's key \n",
    "    if root.val < key: \n",
    "        return search(root.right,key) \n",
    "    \n",
    "    # Key is smaller than root's key \n",
    "    return search(root.left,key) \n",
    "\n",
    "\n",
    "# A utility function to do inorder tree traversal \n",
    "\n",
    "\n",
    "def inorder(root): \n",
    "    if root: \n",
    "        inorder(root.left) \n",
    "        print(root.val) \n",
    "        inorder(root.right) \n",
    "  \n",
    "  \n",
    "# Driver program to test the above functions \n",
    "# Let us create the following BST \n",
    "#      50 \n",
    "#    /      \\ \n",
    "#   30     70 \n",
    "#   / \\    / \\ \n",
    "#  20 40  60 80 \n",
    "\n",
    "root = Node(50)\n",
    "\n",
    "insert(root,Node(30)) \n",
    "insert(root,Node(20)) \n",
    "insert(root,Node(40)) \n",
    "insert(root,Node(70)) \n",
    "insert(root,Node(60)) \n",
    "insert(root,Node(80)) \n",
    "  \n",
    "# Print inoder traversal of the BST \n",
    "inorder(root) "
   ]
  },
  {
   "cell_type": "code",
   "execution_count": 30,
   "metadata": {},
   "outputs": [],
   "source": [
    "insert(root,Node(200)) "
   ]
  },
  {
   "cell_type": "code",
   "execution_count": 35,
   "metadata": {},
   "outputs": [],
   "source": [
    "# Given a non-empty binary search tree, return the node \n",
    "# with minum key value found in that tree. Note that the \n",
    "# entire tree does not need to be searched  \n",
    "def minValueNode(root): \n",
    "    current = root \n",
    "  \n",
    "    # loop down to find the leftmost leaf \n",
    "    while(current.left is not None): \n",
    "        current = current.left  \n",
    "  \n",
    "    return current  \n",
    "\n",
    "  \n",
    "# Given a binary search tree and a key, this function \n",
    "# delete the key and returns the new root \n",
    "def deleteNode(root, key): \n",
    "  \n",
    "    # Base Case \n",
    "    if root is None: \n",
    "        return root  \n",
    "  \n",
    "    # If the key to be deleted is smaller than the root's \n",
    "    # key then it lies in  left subtree \n",
    "    if key < root.val: \n",
    "        root.left = deleteNode(root.left, key) \n",
    "  \n",
    "    # If the kye to be delete is greater than the root's key \n",
    "    # then it lies in right subtree \n",
    "    elif(key > root.val): \n",
    "        root.right = deleteNode(root.right, key) \n",
    "  \n",
    "    # If key is same as root's key, then this is the node \n",
    "    # to be deleted \n",
    "    else: \n",
    "          \n",
    "        # Node with only one child or no child \n",
    "        if root.left is None : \n",
    "            temp = root.right  \n",
    "            root = None \n",
    "            return temp  \n",
    "              \n",
    "        elif root.right is None : \n",
    "            temp = root.left  \n",
    "            root = None\n",
    "            return temp \n",
    "  \n",
    "        # Node with two children: Get the inorder successor \n",
    "        # (smallest in the right subtree) \n",
    "        temp = minValueNode(root.right) \n",
    "  \n",
    "        # Copy the inorder successor's content to this node \n",
    "        root.val = temp.val \n",
    "  \n",
    "        # Delete the inorder successor \n",
    "        root.right = deleteNode(root.right , temp.val) \n",
    "  \n",
    "  \n",
    "    return root"
   ]
  },
  {
   "cell_type": "code",
   "execution_count": null,
   "metadata": {},
   "outputs": [],
   "source": []
  },
  {
   "cell_type": "code",
   "execution_count": 36,
   "metadata": {},
   "outputs": [
    {
     "name": "stdout",
     "output_type": "stream",
     "text": [
      "Inorder traversal of the given tree\n",
      "20\n",
      "30\n",
      "40\n",
      "50\n",
      "60\n",
      "70\n",
      "80\n",
      "\n",
      "Delete 20\n",
      "Inorder traversal of the modified tree\n",
      "30\n",
      "40\n",
      "50\n",
      "60\n",
      "70\n",
      "80\n",
      "\n",
      "Delete 30\n",
      "Inorder traversal of the modified tree\n",
      "40\n",
      "50\n",
      "60\n",
      "70\n",
      "80\n",
      "\n",
      "Delete 50\n",
      "Inorder traversal of the modified tree\n",
      "40\n",
      "60\n",
      "70\n",
      "80\n"
     ]
    }
   ],
   "source": [
    "print (\"Inorder traversal of the given tree\")\n",
    "inorder(root) \n",
    "  \n",
    "print (\"\\nDelete 20\")\n",
    "root = deleteNode(root, 20) \n",
    "print (\"Inorder traversal of the modified tree\")\n",
    "inorder(root) \n",
    "  \n",
    "print (\"\\nDelete 30\")\n",
    "root = deleteNode(root, 30) \n",
    "print (\"Inorder traversal of the modified tree\")\n",
    "inorder(root) \n",
    "  \n",
    "print (\"\\nDelete 50\")\n",
    "root = deleteNode(root, 50) \n",
    "print (\"Inorder traversal of the modified tree\")\n",
    "inorder(root) \n",
    "  "
   ]
  },
  {
   "cell_type": "code",
   "execution_count": 38,
   "metadata": {},
   "outputs": [
    {
     "name": "stdout",
     "output_type": "stream",
     "text": [
      "found\n"
     ]
    }
   ],
   "source": [
    "print('found') if (search(root,80)) else print('not found')"
   ]
  },
  {
   "cell_type": "code",
   "execution_count": null,
   "metadata": {},
   "outputs": [],
   "source": []
  }
 ],
 "metadata": {
  "kernelspec": {
   "display_name": "Python 3",
   "language": "python",
   "name": "python3"
  },
  "language_info": {
   "codemirror_mode": {
    "name": "ipython",
    "version": 3
   },
   "file_extension": ".py",
   "mimetype": "text/x-python",
   "name": "python",
   "nbconvert_exporter": "python",
   "pygments_lexer": "ipython3",
   "version": "3.7.4"
  }
 },
 "nbformat": 4,
 "nbformat_minor": 4
}
