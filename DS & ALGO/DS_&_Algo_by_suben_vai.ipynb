{
 "cells": [
  {
   "cell_type": "markdown",
   "metadata": {
    "colab_type": "text",
    "id": "f1iUT91BLYld"
   },
   "source": [
    "# Linear Search \n",
    "O(n)"
   ]
  },
  {
   "cell_type": "code",
   "execution_count": null,
   "metadata": {
    "colab": {},
    "colab_type": "code",
    "id": "MmtTKTo_LckV"
   },
   "outputs": [],
   "source": [
    "def linear_search(L,x):\n",
    "  'L is list and x is value'\n",
    "  for i in range(len(L)):\n",
    "    if L[i] == x:\n",
    "      return i # return index of value\n",
    "  return -1"
   ]
  },
  {
   "cell_type": "code",
   "execution_count": null,
   "metadata": {
    "colab": {},
    "colab_type": "code",
    "id": "QTwUWh1EMKsS"
   },
   "outputs": [],
   "source": []
  },
  {
   "cell_type": "code",
   "execution_count": null,
   "metadata": {
    "colab": {
     "base_uri": "https://localhost:8080/",
     "height": 34
    },
    "colab_type": "code",
    "id": "IFWOpvgMMWYa",
    "outputId": "2d31aff6-5b2a-4fce-820a-ac49e97a92b2"
   },
   "outputs": [
    {
     "data": {
      "text/plain": [
       "4"
      ]
     },
     "execution_count": 7,
     "metadata": {
      "tags": []
     },
     "output_type": "execute_result"
    }
   ],
   "source": [
    "linear_search([1,2,3,4,5],5)"
   ]
  },
  {
   "cell_type": "code",
   "execution_count": null,
   "metadata": {
    "colab": {},
    "colab_type": "code",
    "id": "YAUrwgeSMqUr"
   },
   "outputs": [],
   "source": []
  },
  {
   "cell_type": "code",
   "execution_count": null,
   "metadata": {
    "colab": {},
    "colab_type": "code",
    "id": "FWjiC4dENSSX"
   },
   "outputs": [],
   "source": []
  },
  {
   "cell_type": "markdown",
   "metadata": {
    "colab_type": "text",
    "id": "NuGzHnNHSiju"
   },
   "source": [
    "# Binary Search \n",
    "O (logn)\n"
   ]
  },
  {
   "cell_type": "code",
   "execution_count": null,
   "metadata": {
    "colab": {},
    "colab_type": "code",
    "id": "Jr76COmoSlUt"
   },
   "outputs": [],
   "source": [
    "def binary_search(L,x):\n",
    "  'L is list and x is value for search'\n",
    "  n = len(L) # number of element\n",
    "  left = 0; right = n-1\n",
    "  \n",
    "  while(left <= right):\n",
    "    mid = (left + right ) // 2\n",
    "    \n",
    "    if L[mid] == x:\n",
    "      return mid\n",
    "    \n",
    "    if x > L[mid]:\n",
    "      left = mid+1\n",
    "    else:\n",
    "      right = mid-1\n",
    "  return -1\n"
   ]
  },
  {
   "cell_type": "code",
   "execution_count": null,
   "metadata": {
    "colab": {
     "base_uri": "https://localhost:8080/",
     "height": 34
    },
    "colab_type": "code",
    "id": "BBqhqdynV1sy",
    "outputId": "f2e3e18c-446e-4e13-9ef1-e93c18f3b1a4"
   },
   "outputs": [
    {
     "data": {
      "text/plain": [
       "2"
      ]
     },
     "execution_count": 22,
     "metadata": {
      "tags": []
     },
     "output_type": "execute_result"
    }
   ],
   "source": [
    "binary_search([1,2,3,4,5,6,7,8,9,10],3)"
   ]
  },
  {
   "cell_type": "markdown",
   "metadata": {
    "colab": {},
    "colab_type": "code",
    "id": "WhahTrlKDEKP"
   },
   "source": [
    "# Binary search recursive way "
   ]
  },
  {
   "cell_type": "code",
   "execution_count": null,
   "metadata": {},
   "outputs": [],
   "source": [
    "def bin_search(L,left,right,x):\n",
    "    \n",
    "    if left > right:\n",
    "        return -1\n",
    "    mid = (left + right) // 2\n",
    "    \n",
    "    if L[mid] == x:\n",
    "        return mid\n",
    "    \n",
    "    if L[mid] <x:\n",
    "        return bin_search(L, mid+1, right, x)\n",
    "    \n",
    "    else:\n",
    "        return bin_search(L, left, mid-1, x)\n",
    "        "
   ]
  },
  {
   "cell_type": "markdown",
   "metadata": {
    "colab_type": "text",
    "id": "rqBvHYX4Qs1P"
   },
   "source": [
    "# Selection Sort"
   ]
  },
  {
   "cell_type": "code",
   "execution_count": null,
   "metadata": {
    "colab": {},
    "colab_type": "code",
    "id": "GtgQOBjcDEoy"
   },
   "outputs": [],
   "source": [
    "def selection_sort(L):\n",
    "  n = len(L)\n",
    "\n",
    "  # Traverse through all array elements\n",
    "  for i in range(n):\n",
    "\n",
    "    # Find the minimum element in remaining  \n",
    "    # unsorted array \n",
    "    min_index = i\n",
    "\n",
    "    for j in range(i+1,n):\n",
    "      if L[j]<L[min_index]:\n",
    "        min_index = j\n",
    "\n",
    "    # if min_index != i:\n",
    "\n",
    "    # Swap the found minimum element with the first element \n",
    "    L[i],L[min_index] = L[min_index],L[i]\n",
    "  \n",
    "  return L\n"
   ]
  },
  {
   "cell_type": "code",
   "execution_count": null,
   "metadata": {
    "colab": {
     "base_uri": "https://localhost:8080/",
     "height": 34
    },
    "colab_type": "code",
    "id": "k3D8gljkTOOh",
    "outputId": "e308411b-d97d-463b-c00d-b4b13100827b"
   },
   "outputs": [
    {
     "data": {
      "text/plain": [
       "[1, 2, 4, 6, 9]"
      ]
     },
     "execution_count": 36,
     "metadata": {
      "tags": []
     },
     "output_type": "execute_result"
    }
   ],
   "source": [
    "selection_sort([6,1,4,9,2])"
   ]
  },
  {
   "cell_type": "markdown",
   "metadata": {
    "colab_type": "text",
    "id": "WK5aoNLqDxzP"
   },
   "source": [
    "# Bubble sort"
   ]
  },
  {
   "cell_type": "code",
   "execution_count": null,
   "metadata": {
    "colab": {},
    "colab_type": "code",
    "id": "wuzgsTsSI4Cv"
   },
   "outputs": [],
   "source": [
    "def bubble_sort(L):\n",
    "  n = len(L)\n",
    "\n",
    "  # Traverse through all array elements\n",
    "  for i in range(n):\n",
    "\n",
    "    # Last i elements are already in place\n",
    "\n",
    "    for j in range(0,n-i-1):\n",
    "      # traverse the array from 0 to n-i-1\n",
    "\t\t\t# Swap if the element found is greater than the next element\n",
    "      if L[j]>L[j+1]:\n",
    "        L[j],L[j+1] = L[j+1],L[j]\n",
    "  return L"
   ]
  },
  {
   "cell_type": "code",
   "execution_count": null,
   "metadata": {
    "colab": {
     "base_uri": "https://localhost:8080/",
     "height": 34
    },
    "colab_type": "code",
    "id": "1PjddLdGlfbT",
    "outputId": "d5a27c05-8aa4-40f4-b008-553e3646061f"
   },
   "outputs": [
    {
     "data": {
      "text/plain": [
       "[1, 2, 4, 6, 9]"
      ]
     },
     "execution_count": 48,
     "metadata": {
      "tags": []
     },
     "output_type": "execute_result"
    }
   ],
   "source": [
    "bubble_sort([6,1,4,9,2])"
   ]
  },
  {
   "cell_type": "code",
   "execution_count": null,
   "metadata": {
    "colab": {},
    "colab_type": "code",
    "id": "RkIvwy65pg-r"
   },
   "outputs": [],
   "source": []
  },
  {
   "cell_type": "code",
   "execution_count": null,
   "metadata": {
    "colab": {},
    "colab_type": "code",
    "id": "BIL7qfh0phNA"
   },
   "outputs": [],
   "source": []
  },
  {
   "cell_type": "markdown",
   "metadata": {
    "colab_type": "text",
    "id": "FF9UtuuVphy-"
   },
   "source": [
    "# Insertion Sort"
   ]
  },
  {
   "cell_type": "code",
   "execution_count": null,
   "metadata": {
    "colab": {},
    "colab_type": "code",
    "id": "PYA1_CilprEV"
   },
   "outputs": [],
   "source": [
    "def insersion_sort(L):\n",
    "  n = len(L)\n",
    "\n",
    "  # Traverse through 1 to len(arr) \n",
    "  for i in range(1,n):\n",
    "    item = L[i]\n",
    "    # Move elements of arr[0..i-1], that are \n",
    "\t\t# greater than item, to one position ahead \n",
    "\t\t# of their current position\n",
    "    j = i-1\n",
    "\n",
    "    while j>=0 and L[j]>item:\n",
    "      L[j+1] = L[j]\n",
    "      j = j - 1\n",
    "\n",
    "    # if conditon false  \n",
    "    L[j+1] = item\n",
    "  \n",
    "  return L\n",
    "\n",
    "\n"
   ]
  },
  {
   "cell_type": "code",
   "execution_count": null,
   "metadata": {
    "colab": {
     "base_uri": "https://localhost:8080/",
     "height": 34
    },
    "colab_type": "code",
    "id": "U4oi6pgxtfMz",
    "outputId": "d4e5433e-95d9-4bae-c2da-8428c216ceac"
   },
   "outputs": [
    {
     "data": {
      "text/plain": [
       "[1, 2, 4, 6, 9]"
      ]
     },
     "execution_count": 68,
     "metadata": {
      "tags": []
     },
     "output_type": "execute_result"
    }
   ],
   "source": [
    "insersion_sort([6,1,4,9,2])"
   ]
  },
  {
   "cell_type": "code",
   "execution_count": null,
   "metadata": {
    "colab": {},
    "colab_type": "code",
    "id": "O0Pey9JgtTXB"
   },
   "outputs": [],
   "source": []
  },
  {
   "cell_type": "code",
   "execution_count": null,
   "metadata": {
    "colab": {},
    "colab_type": "code",
    "id": "FFrSE2MiZWwm"
   },
   "outputs": [],
   "source": []
  },
  {
   "cell_type": "markdown",
   "metadata": {
    "colab_type": "text",
    "id": "B-dFe5WzA-sA"
   },
   "source": [
    "# Stack and Queue with list"
   ]
  },
  {
   "cell_type": "code",
   "execution_count": null,
   "metadata": {
    "colab": {},
    "colab_type": "code",
    "id": "r6g0yBqxBCEb"
   },
   "outputs": [],
   "source": [
    "# A simple class stack that only allows pop and push operations\n",
    "class Stack:\n",
    "\n",
    "    def __init__(self):\n",
    "        self.stack = []\n",
    "\n",
    "    def pop(self):\n",
    "        if len(self.stack) < 1:\n",
    "            return None\n",
    "        return self.stack.pop()\n",
    "\n",
    "    def push(self, item):\n",
    "        self.stack.append(item)\n",
    "\n",
    "    def size(self):\n",
    "        return len(self.stack)\n",
    "\n",
    "# And a queue that only has enqueue and dequeue operations\n",
    "class Queue:\n",
    "\n",
    "    def __init__(self):\n",
    "        self.queue = []\n",
    "\n",
    "    def enqueue(self, item):\n",
    "        self.queue.append(item)\n",
    "\n",
    "    def dequeue(self):\n",
    "        if len(self.queue) < 1:\n",
    "            return None\n",
    "        return self.queue.pop(0)\n",
    "\n",
    "    def size(self):\n",
    "        return len(self.queue) \n",
    "\n",
    "  \n"
   ]
  },
  {
   "cell_type": "code",
   "execution_count": null,
   "metadata": {
    "colab": {},
    "colab_type": "code",
    "id": "oyQI9O20F3MV"
   },
   "outputs": [],
   "source": []
  },
  {
   "cell_type": "markdown",
   "metadata": {
    "colab_type": "text",
    "id": "6K5sHMMyGxTN"
   },
   "source": [
    "# Stack and Queue with deque (pronounced 'deck') library"
   ]
  },
  {
   "cell_type": "code",
   "execution_count": 111,
   "metadata": {
    "colab": {
     "base_uri": "https://localhost:8080/",
     "height": 85
    },
    "colab_type": "code",
    "id": "l8IJyqV8G4XW",
    "outputId": "c3d73941-7976-4ba3-bb83-711571fcc2c0"
   },
   "outputs": [
    {
     "name": "stdout",
     "output_type": "stream",
     "text": [
      "47\n",
      "deque([99, 15, 82, 50])\n",
      "99\n",
      "deque([15, 82, 50])\n"
     ]
    }
   ],
   "source": [
    "from collections import deque\n",
    "\n",
    "# you can initialize a deque with a list \n",
    "numbers = deque()\n",
    "\n",
    "# Use append like before to add elements\n",
    "numbers.append(99)\n",
    "numbers.append(15)\n",
    "numbers.append(82)\n",
    "numbers.append(50)\n",
    "numbers.append(47)\n",
    "\n",
    "# You can pop like a stack\n",
    "last_item = numbers.pop()\n",
    "print(last_item) # 47\n",
    "print(numbers) # deque([99, 15, 82, 50])\n",
    "\n",
    "# You can dequeue like a queue\n",
    "first_item = numbers.popleft()\n",
    "print(first_item) # 99\n",
    "print(numbers) # deque([15, 82, 50])"
   ]
  },
  {
   "cell_type": "code",
   "execution_count": null,
   "metadata": {
    "colab": {},
    "colab_type": "code",
    "id": "kNUgTfnxG__p"
   },
   "outputs": [],
   "source": []
  },
  {
   "cell_type": "code",
   "execution_count": null,
   "metadata": {
    "colab": {},
    "colab_type": "code",
    "id": "feTVfQqwDzJV"
   },
   "outputs": [],
   "source": [
    "# Queue implementation with list\n",
    "class Queue:\n",
    "  \n",
    "  def __init__(self):\n",
    "    self.items = []\n",
    "  \n",
    "  def enqueue (self,value):\n",
    "    self.items.append(value)\n",
    "\n",
    "  def dequeue(self):\n",
    "    return self.item.pop(0) # O(n^2)\n",
    "\n",
    "  def is_empty(self):\n",
    "    if self.items == []:\n",
    "      return True\n",
    "    return False"
   ]
  },
  {
   "cell_type": "code",
   "execution_count": null,
   "metadata": {
    "colab": {},
    "colab_type": "code",
    "id": "c5RcM88tGDmO"
   },
   "outputs": [],
   "source": []
  },
  {
   "cell_type": "code",
   "execution_count": null,
   "metadata": {
    "colab": {},
    "colab_type": "code",
    "id": "chQ2ROh4GDvs"
   },
   "outputs": [],
   "source": []
  },
  {
   "cell_type": "code",
   "execution_count": null,
   "metadata": {
    "colab": {},
    "colab_type": "code",
    "id": "IVwklXxTDzX6"
   },
   "outputs": [],
   "source": []
  },
  {
   "cell_type": "markdown",
   "metadata": {
    "colab_type": "text",
    "id": "2fWVTJT-OoJ_"
   },
   "source": [
    "# Linked List "
   ]
  },
  {
   "cell_type": "markdown",
   "metadata": {
    "colab_type": "text",
    "id": "gjwvGXKlZfMK"
   },
   "source": [
    "### Single linked list"
   ]
  },
  {
   "cell_type": "code",
   "execution_count": null,
   "metadata": {
    "colab": {},
    "colab_type": "code",
    "id": "oQ2ciCEhZWBT"
   },
   "outputs": [],
   "source": []
  },
  {
   "cell_type": "code",
   "execution_count": null,
   "metadata": {
    "colab": {},
    "colab_type": "code",
    "id": "k8t0g7sJaKaZ"
   },
   "outputs": [],
   "source": [
    "# create Node class\n",
    "class Node:\n",
    "\n",
    "  def __init__(self, data=None, next=None):\n",
    "    self.data = data\n",
    "    self.next = next\n",
    "\n",
    "  def __repr__(self):\n",
    "    return repr(self.data)\n",
    "\n",
    "\n",
    "# create LinkedList class\n",
    "class LinkedList:\n",
    "\n",
    "  def __init__(self):\n",
    "    # শুরুতে head নোড এ কিছু থাকবে না, তাই খালি নোড তৈরি করেছি,\n",
    "    # যার data ও next এ কিছু নেই (মানে None আছে আর কি)\n",
    "    self.head = Node()\n",
    "\n",
    "  def __repr__(self):\n",
    "    nodes = []\n",
    "    current_node = self.head.next\n",
    "\n",
    "    while current_node:\n",
    "      nodes.append(repr(current_node))\n",
    "      current_node = current_node.next\n",
    "\n",
    "      # সবগুলো Node একটি স্ট্রিং আকারে দেখাবে,\n",
    "      # পরপর ২ টি Node কমা দিয়ে আলাদা থাকবে\n",
    "\n",
    "      return \",\".join(nodes)\n",
    "  \n",
    "  def prepend(self, data):\n",
    "    # আমাদেরকে একটি নোড তৈরি করতে হবে, যেহেতু এটি লিঙ্ক লিস্টের প্রথম নোড,\n",
    "    # তাই তার next অংশে আমরা head.next কে কপি করে দিব\n",
    "    node = Node(data, self.head.next)\n",
    "    \n",
    "    # head.next এ আমরা নোড রাখব,\n",
    "    # কারন node হচ্ছে লিঙ্কলিস্টের প্রথম নোড\n",
    "    self.head.next = node\n",
    "\n",
    "  \n",
    "  def append(self, data):\n",
    "    # একটি নোড অবজেক্ট তৈরি করি\n",
    "    node = Node(data)\n",
    "\n",
    "    if self.head.next is None:\n",
    "      # যদি লিঙ্কলিস্ট খালি থাকে, তাহলে head.next এর মান হবে None\n",
    "      # তাই head.next-এ এখন node রেখে দেব। তারপর রিটার্ন করব  \n",
    "      self.head.next = node\n",
    "      return\n",
    "\n",
    "    # লুপ চালিয়ে শেষ নোডে চলে যাব\n",
    "    # লুপের কাজ শেষ হওয়ার পরে সবার শেষ নোডটি থাকবে current_node-এ\n",
    "    current_node = self.head.next\n",
    "\n",
    "    while current_node.next:\n",
    "      current_node = current_node.next\n",
    "\n",
    "    # শেষ নোডের next হবে node, তাহলে node এখন সবার শেষ নোড\n",
    "    current_node.next = node\n",
    "\n",
    "  \n",
    "  def insert(self, data, new_data):\n",
    "    current_node = self.head.next\n",
    "    while current_node:\n",
    "      # আমরা এখন নতুন একটি নোড তৈরি করব,যার ডেটা হচ্ছে new_data\n",
    "      # আর এই নোডটি যেহেতু current_node এর পরে থাকবে, সেজন্য \n",
    "      # current_node.next হবে এই নতুন নোডের পরের নড \n",
    "      if current_node == data:\n",
    "        new_node = Node(new_data,current_node)\n",
    "        \n",
    "        # এখন current_node.next এ new_node রেখে দেই\n",
    "        current_node.next = new_node\n",
    "        # যেহেতু কাংক্ষিত নোড পেয়ে গিয়েছি যার ডেটা অংশটি data এর সমান,\n",
    "        # এবং নতুন নোডটি লিঙ্কলিস্টে সঠিক জায়গায় যুক্তও করে ফেলেছি,\n",
    "        # তাই লুপ থেকে বের হয়ে যাব।\n",
    "        break\n",
    "      current_node = current_node.next\n",
    "\n",
    "\n",
    "  \n",
    "  def search(self, item):\n",
    "    current_node = self.head.next\n",
    "    # current_node None হলে লুপ থেকে বের হয়ে যাবে\n",
    "    # None ছাড়া অন্য কোন মান হলে লুপ চলবে\n",
    "\n",
    "    while current_node:\n",
    "      \n",
    "      if current_node.data == item:\n",
    "        return current_node\n",
    "\n",
    "      current_node = current_node.next\n",
    "\n",
    "      return None\n",
    "\n",
    "  \n",
    "  def remove(self, item):\n",
    "    previous_node = self.head\n",
    "    current_node = previous_node.next\n",
    "\n",
    "    while current_node:\n",
    "      \n",
    "      if current_node.data == item:\n",
    "        break\n",
    "      \n",
    "      previous_node = current_node\n",
    "      current_node = current_node.next\n",
    "\n",
    "    if current_node is None:\n",
    "      # current_node এর মান None হওয়ার অর্থ হচ্ছে,\n",
    "      # আমরা একেবারে শেষ নোডের next কে current_node এ রেখেছি, মানে সবগুলো নোড আমরা পরিক্ষা করে ফেলেছি।\n",
    "      # কিন্ত item কে কোনো নোডের data তে খুজে পাই নি।\n",
    "      return None \n",
    "\n",
    "    if self.head == previous_node:\n",
    "      # self.head নোডটি previous_node এর সমান হওয়ার অর্থ হচ্ছে, প্রথম নোডটি current_node,\n",
    "      # যার data হচ্ছে item এর সমান। তাই head পয়েন্ট করবে current_node এর পরের নোডকে।\n",
    "      self.head.next = current_node.next\n",
    "\n",
    "    else:\n",
    "      # current_node টি লিঙ্কলিস্টের প্রথম নোড ছাড়া অন্য যেকোনো নোড,\n",
    "      # তাই এর আগের নোড এর নেষ্ট হবে current_node এর next\n",
    "      previous_node.next = current_node.next\n",
    "\n",
    "\n",
    "\n",
    "  "
   ]
  },
  {
   "cell_type": "code",
   "execution_count": null,
   "metadata": {
    "colab": {},
    "colab_type": "code",
    "id": "4dZ8FjeU-HpV"
   },
   "outputs": [],
   "source": []
  },
  {
   "cell_type": "markdown",
   "metadata": {
    "colab_type": "text",
    "id": "b9ERy8JP8viY"
   },
   "source": [
    "# A simple Python program for traversal of a linked list "
   ]
  },
  {
   "cell_type": "markdown",
   "metadata": {
    "colab_type": "text",
    "id": "vCOlw8Xv_1IS"
   },
   "source": [
    "# Linked List  (Inserting a node)\n",
    "A node can be added in three ways\n",
    "  1. At the front of the linked list\n",
    "  2. After a given node.\n",
    "  3. At the end of the linked list."
   ]
  },
  {
   "cell_type": "code",
   "execution_count": null,
   "metadata": {
    "colab": {},
    "colab_type": "code",
    "id": "2DEThVc8tZ3l"
   },
   "outputs": [],
   "source": []
  },
  {
   "cell_type": "markdown",
   "metadata": {
    "colab_type": "text",
    "id": "nbGr6CGyng42"
   },
   "source": [
    "###  Linked Lists vs Arrays:\n",
    " 1. A linked list is a dynamic data structure which means that the memory reserved for the link list can be increased or reduced at runtime. No memory is allocated for a linked list data structure in advance. Whenever a new item is required to be added to the linked, the memory for the new node is created at run time. On the other hand, in case of the array, memory has to be allocated in advance for a specific number of items. In cases where sufficient items are not available to fill all array index, memory space is wasted.\n",
    "\n",
    " 2. Since arrays require contiguous memory locations, it is very difficult to remove or insert an item in an array since the memory locations of a large number of items have to be updated. On the other hand, linked list items are not stored in a contiguous memory location, therefore you can easily update linked lists. \n",
    "\n",
    " 3. Owing to its flexibility, a linked list is more suitable for implementing data structures like stacks, queues, and lists.\n",
    "\n",
    " ### However, there are some downsides to the linked list as well\n",
    " 1. Since each linked list item has to store the reference to the next item, some extra memory is required.\n",
    "\n",
    " 2. Unlike Arrays, where you can directly access an item, you cannot access a linked list item directly since the only information you have is the reference to the first item. In Big O terms, worst-case access time is O(n)."
   ]
  },
  {
   "cell_type": "code",
   "execution_count": null,
   "metadata": {
    "colab": {},
    "colab_type": "code",
    "id": "a_usDA9vtgIM"
   },
   "outputs": [],
   "source": []
  },
  {
   "cell_type": "code",
   "execution_count": null,
   "metadata": {
    "colab": {},
    "colab_type": "code",
    "id": "RUeGtdT7uPOu"
   },
   "outputs": [],
   "source": [
    "## practise\n",
    "# A complete working Python program to demonstrate all \n",
    "# insertion methods of linked list \n",
    "  \n",
    "  \n",
    "# Node class \n",
    "class Node:\n",
    " \n",
    "  def __init__(self, data):\n",
    "    '''Function to initialise the node object'''\n",
    "    self.data = data  # Assign data \n",
    "    self.next = None  # Initialize next as null\n",
    "\n",
    "\n",
    "\n",
    "# LinkedList class \n",
    "class LinkedList:\n",
    "\n",
    "  def __init__(self):\n",
    "    self.head = None # Initialize head as null\n",
    "  \n",
    "\n",
    "  def print_list(self):\n",
    "    '''Print all items'''\n",
    "    current_node = self.head\n",
    "    while(current_node):\n",
    "      print(current_node.data,end=' ')\n",
    "      current_node = current_node.next\n",
    "\n",
    "\n",
    "      \n",
    "  def prepend(self, new_data):\n",
    "    '''Functio to insert a new node at the beginning '''\n",
    "\n",
    "    # 1 & 2: Allocate the Node & Put in the data \n",
    "    new_node = Node(new_data)\n",
    "\n",
    "    # 3. Make next of new Node as head \n",
    "    new_node.next = self.head \n",
    "\n",
    "    # 4. Move the head to point to new Node \n",
    "    self.head = new_node\n",
    "\n",
    "\n",
    "  def append(self, new_data):\n",
    "    '''Functio to insert a new node at the end''' \n",
    "\n",
    "    # 1. Create a new node \n",
    "    # 2. Put in the data \n",
    "    # 3. Set next as None \n",
    "    new_node = Node(new_data) \n",
    "\n",
    "    # 4. If the Linked List is empty, then make the \n",
    "    #    new node as head \n",
    "    if self.head is None: \n",
    "        self.head = new_node \n",
    "        return\n",
    "\n",
    "    # 5. Else traverse till the last node \n",
    "    current_node = self.head \n",
    "    while (current_node.next): \n",
    "        current_node = current_node.next\n",
    "\n",
    "    # 6. Change the next of last node \n",
    "    #    assing new node where previously is null & \n",
    "    #    autumatically next of node is null \n",
    "    current_node.next =  new_node \n",
    "\n",
    "  def insert_after_item(self, x, data):\n",
    "    '''function to inser new data after a given value'''\n",
    "\n",
    "    # initialize current_node as head\n",
    "    current_node = self.head\n",
    "\n",
    "    # traverse & get node where x belong\n",
    "    while current_node is not None:\n",
    "        if current_node.data == x:\n",
    "            break\n",
    "        current_node = current_node.next \n",
    "        \n",
    "    if current_node is None:\n",
    "        print(\"data not in the list\")\n",
    "    else:\n",
    "        # create new node & Put in the data  \n",
    "        new_node = Node(data)\n",
    "        new_node.next = current_node.next\n",
    "        current_node.next = new_node\n",
    "\n",
    "\n",
    "  def insert_at_index (self, index, data):\n",
    "    '''function to inser new data into a given index'''\n",
    "    if index == 1:\n",
    "        new_node = Node(data)\n",
    "        new_node.next = self.head\n",
    "        self.head = new_node\n",
    "    i = 1\n",
    "    current_node = self.head\n",
    "    while i < index-1 and current_node is not None:\n",
    "        current_node = current_node.next\n",
    "        i = i+1\n",
    "    if current_node is None:\n",
    "        print(\"Index out of bound\")\n",
    "    else: \n",
    "        new_node = Node(data)\n",
    "        new_node.next = current_node.next\n",
    "        current_node.next = new_node\n",
    "\n",
    "\n",
    "  def search(self, item):\n",
    "    current_node = self.head.next\n",
    "    # current_node None হলে লুপ থেকে বের হয়ে যাবে\n",
    "    # None ছাড়া অন্য কোন মান হলে লুপ চলবে\n",
    "\n",
    "    while current_node:\n",
    "      \n",
    "      if current_node.data == item:\n",
    "        return print('Item found')\n",
    "\n",
    "      current_node = current_node.next\n",
    "\n",
    "      return print('Item not found')\n",
    "\n",
    "\n",
    "  def remove(self, item):\n",
    "    previous_node = self.head\n",
    "    current_node = previous_node.next\n",
    "\n",
    "    while current_node:\n",
    "      \n",
    "      if current_node.data == item:\n",
    "        break\n",
    "      \n",
    "      previous_node = current_node\n",
    "      current_node = current_node.next\n",
    "\n",
    "    if current_node is None:\n",
    "      # current_node এর মান None হওয়ার অর্থ হচ্ছে,\n",
    "      # আমরা একেবারে শেষ নোডের next কে current_node এ রেখেছি, মানে সবগুলো নোড আমরা পরিক্ষা করে ফেলেছি।\n",
    "      # কিন্ত item কে কোনো নোডের data তে খুজে পাই নি।\n",
    "      return None \n",
    "\n",
    "    if self.head == previous_node:\n",
    "      # self.head নোডটি previous_node এর সমান হওয়ার অর্থ হচ্ছে, প্রথম নোডটি current_node,\n",
    "      # যার data হচ্ছে item এর সমান। তাই head পয়েন্ট করবে current_node এর পরের নোডকে।\n",
    "      self.head.next = current_node.next\n",
    "\n",
    "    else:\n",
    "      # current_node টি লিঙ্কলিস্টের প্রথম নোড ছাড়া অন্য যেকোনো নোড,\n",
    "      # তাই এর আগের নোড এর next হবে current_node এর next\n",
    "      previous_node.next = current_node.next\n"
   ]
  },
  {
   "cell_type": "code",
   "execution_count": null,
   "metadata": {
    "colab": {},
    "colab_type": "code",
    "id": "okUElBM_yteu"
   },
   "outputs": [],
   "source": [
    "ll = LinkedList()"
   ]
  },
  {
   "cell_type": "code",
   "execution_count": null,
   "metadata": {
    "colab": {},
    "colab_type": "code",
    "id": "2wU9YjvS6_8H"
   },
   "outputs": [],
   "source": [
    "for i in [1,2,3,4]:\n",
    "  ll.prepend(i)"
   ]
  },
  {
   "cell_type": "code",
   "execution_count": 82,
   "metadata": {
    "colab": {
     "base_uri": "https://localhost:8080/",
     "height": 34
    },
    "colab_type": "code",
    "id": "NpOdJd_GyySc",
    "outputId": "6ad4e40a-9241-49f8-e94d-98d1b088118e"
   },
   "outputs": [
    {
     "name": "stdout",
     "output_type": "stream",
     "text": [
      "4 3 1 "
     ]
    }
   ],
   "source": [
    "ll.print_list()"
   ]
  },
  {
   "cell_type": "code",
   "execution_count": null,
   "metadata": {
    "colab": {},
    "colab_type": "code",
    "id": "WTxeJzV0yzF8"
   },
   "outputs": [],
   "source": [
    "ll.insert_after_item(4,11)"
   ]
  },
  {
   "cell_type": "code",
   "execution_count": null,
   "metadata": {
    "colab": {},
    "colab_type": "code",
    "id": "OmCVBzZ-4J5v"
   },
   "outputs": [],
   "source": [
    "ll.insert_at_index(2,9)"
   ]
  },
  {
   "cell_type": "code",
   "execution_count": 98,
   "metadata": {
    "colab": {
     "base_uri": "https://localhost:8080/",
     "height": 34
    },
    "colab_type": "code",
    "id": "jNZKzHywvVqM",
    "outputId": "69aa9df4-b05a-4e8e-c3b9-9a5c630e05d6"
   },
   "outputs": [
    {
     "name": "stdout",
     "output_type": "stream",
     "text": [
      "Item not found\n"
     ]
    }
   ],
   "source": [
    "ll.search(10)"
   ]
  },
  {
   "cell_type": "code",
   "execution_count": null,
   "metadata": {
    "colab": {},
    "colab_type": "code",
    "id": "AwgwMFGf5IZP"
   },
   "outputs": [],
   "source": [
    "ll.remove(2)"
   ]
  },
  {
   "cell_type": "markdown",
   "metadata": {
    "colab": {},
    "colab_type": "code",
    "id": "hw8qoGJ279y9"
   },
   "source": [
    "## Binary Tree"
   ]
  },
  {
   "cell_type": "code",
   "execution_count": 1,
   "metadata": {},
   "outputs": [
    {
     "name": "stdout",
     "output_type": "stream",
     "text": [
      "1\n",
      "7\n",
      "5\n",
      "6\n",
      "10\n",
      "2\n",
      "9\n",
      "3\n",
      "8\n",
      "4\n"
     ]
    }
   ],
   "source": [
    "## subeen vai code\n",
    "class Node:\n",
    "    def __init__(self, data):\n",
    "        self.data = data\n",
    "        self.left = None\n",
    "        self.right = None\n",
    "        self.parent = None\n",
    "\n",
    "    def __repr__(self):\n",
    "        return repr(self.data)\n",
    "\n",
    "    def add_left(self, node):\n",
    "        self.left = node\n",
    "        if node is not None:\n",
    "            node.parent = self\n",
    "\n",
    "    def add_right(self, node):\n",
    "        self.right = node\n",
    "        if node is not None:\n",
    "            node.parent = self\n",
    "\n",
    "\"\"\"\n",
    "      2\n",
    "    /   \\\n",
    "   7     9\n",
    "  / \\     \\\n",
    " 1   6     8\n",
    "    / \\   / \\\n",
    "   5  10 3   4\n",
    "\"\"\"\n",
    "def create_tree():\n",
    "    two = Node(2)\n",
    "    seven = Node(7)\n",
    "    nine = Node(9)\n",
    "    two.add_left(seven)\n",
    "    two.add_right(nine)\n",
    "    one = Node(1)\n",
    "    six = Node(6)\n",
    "    seven.add_left(one)\n",
    "    seven.add_right(six)\n",
    "    five = Node(5)\n",
    "    ten = Node(10)\n",
    "    six.add_left(five)\n",
    "    six.add_right(ten)\n",
    "    eight = Node(8)\n",
    "    nine.add_right(eight)\n",
    "    three = Node(3)\n",
    "    four = Node(4)\n",
    "    eight.add_left(three)\n",
    "    eight.add_right(four)\n",
    "\n",
    "    # now return the root node\n",
    "    return two\n",
    "\n",
    "\n",
    "def pre_order(node):\n",
    "    print(node)\n",
    "    if node.left:\n",
    "        pre_order(node.left)\n",
    "    if node.right:\n",
    "        pre_order(node.right)\n",
    "\n",
    "\n",
    "def post_order(node):\n",
    "    if node.left:\n",
    "        post_order(node.left)\n",
    "    if node.right:\n",
    "        post_order(node.right)\n",
    "    print(node)\n",
    "\n",
    "\n",
    "def in_order(node):\n",
    "    if node.left:\n",
    "        in_order(node.left)\n",
    "    print(node)\n",
    "    if node.right:\n",
    "        in_order(node.right)\n",
    "\n",
    "\n",
    "if __name__ == \"__main__\":\n",
    "    root = create_tree()\n",
    "    in_order(root)"
   ]
  },
  {
   "cell_type": "markdown",
   "metadata": {},
   "source": [
    "## Binary Search Tree"
   ]
  },
  {
   "cell_type": "code",
   "execution_count": 70,
   "metadata": {},
   "outputs": [
    {
     "name": "stdout",
     "output_type": "stream",
     "text": [
      "BST:\n",
      "1\n",
      "3\n",
      "4\n",
      "5\n",
      "7\n",
      "10\n",
      "12\n",
      "17\n",
      "19\n",
      "will delete 1\n",
      "BST:\n",
      "will delete 5\n",
      "BST:\n",
      "will delete 10\n",
      "BST:\n"
     ]
    }
   ],
   "source": [
    "# subeen vai bst\n",
    "class TreeNode:\n",
    "    def __init__(self, data):\n",
    "        self.data = data\n",
    "        self.parent = None\n",
    "        self.left = None\n",
    "        self.right = None\n",
    "\n",
    "    def __repr__(self):\n",
    "        return repr(self.data)\n",
    "\n",
    "    def add_left(self, node):\n",
    "        self.left = node\n",
    "        if node is not None:\n",
    "            node.parent = self\n",
    "\n",
    "    def add_right(self, node):\n",
    "        self.right = node\n",
    "        if node is not None:\n",
    "            node.parent = self\n",
    "\n",
    "\n",
    "def bst_insert(root, node):\n",
    "    last_node = None\n",
    "    current_node = root\n",
    "    while current_node is not None:\n",
    "        last_node = current_node\n",
    "        if node.data < current_node.data:\n",
    "            current_node = current_node.left\n",
    "        else:\n",
    "            current_node = current_node.right\n",
    "\n",
    "    if last_node is None:\n",
    "        # tree was empty, node is the only node, hence root\n",
    "        root = node\n",
    "    elif node.data < last_node.data:\n",
    "        last_node.add_left(node)\n",
    "    else:\n",
    "        last_node.add_right(node)\n",
    "\n",
    "    return root\n",
    "\n",
    "\n",
    "def bst_search(node, key):\n",
    "    while node is not None:\n",
    "        if node.data == key:\n",
    "            return node\n",
    "        if key < node.data:\n",
    "            node = node.left\n",
    "        else:\n",
    "            node = node.right\n",
    "\n",
    "    return node\n",
    "\n",
    "\n",
    "\"\"\"\n",
    "           10\n",
    "         /    \\\n",
    "        5     17\n",
    "       / \\   /  \\\n",
    "      3   7 12  19\n",
    "     / \\      \n",
    "    1   4      \n",
    "\n",
    "\"\"\"\n",
    "def bst_create():\n",
    "    root = TreeNode(10)\n",
    "\n",
    "    for item in [5, 17, 3, 7, 12, 19, 1, 4]:\n",
    "        node = TreeNode(item)\n",
    "        root = bst_insert(root, node)\n",
    "\n",
    "    return root\n",
    "\n",
    "\n",
    "def in_order(node):\n",
    "    if node.left:\n",
    "        in_order(node.left)\n",
    "    print(node)\n",
    "    if node.right:\n",
    "        in_order(node.right)\n",
    "\n",
    "\n",
    "def bst_minimum(root):\n",
    "    while root.left is not None:\n",
    "        root = root.left\n",
    "    return root\n",
    "\n",
    "\n",
    "def bst_transplant(root, current_node, new_node):\n",
    "    if current_node.parent is None:\n",
    "        root = new_node\n",
    "    elif current_node == current_node.parent.left:\n",
    "        current_node.parent.add_left(new_node)\n",
    "    else:\n",
    "        current_node.parent.add_right(new_node)\n",
    "    return root\n",
    "\n",
    "\n",
    "def bst_delete(root, node):\n",
    "    if node.left is None:\n",
    "        root = bst_transplant(root, node, node.right)\n",
    "    elif node.right is None:\n",
    "        root = bst_transplant(root, node, node.left)\n",
    "    else:\n",
    "        min_node = bst_minimum(node.right)\n",
    "        if min_node.parent != node:\n",
    "            root = bst_transplant(root, min_node, min_node.right)\n",
    "            min_node.add_right(node.right)\n",
    "        root = bst_transplant(root, node, min_node)\n",
    "        min_node.add_left(node.left)\n",
    "\n",
    "    return root\n",
    "\n",
    "\n",
    "if __name__ == \"__main__\":\n",
    "    root = bst_create()\n",
    "    print(\"BST:\")\n",
    "    in_order(root)\n",
    "    for key in [1, 5, 10]:\n",
    "        node = bst_search(root, key)\n",
    "        print(\"will delete\", node)\n",
    "        root = bst_delete(root, node)\n",
    "        print(\"BST:\")"
   ]
  },
  {
   "cell_type": "code",
   "execution_count": null,
   "metadata": {},
   "outputs": [],
   "source": []
  },
  {
   "cell_type": "code",
   "execution_count": null,
   "metadata": {},
   "outputs": [],
   "source": []
  }
 ],
 "metadata": {
  "colab": {
   "collapsed_sections": [],
   "name": "DS & Algo by suben_vai.ipynb",
   "provenance": []
  },
  "kernelspec": {
   "display_name": "Python 3",
   "language": "python",
   "name": "python3"
  },
  "language_info": {
   "codemirror_mode": {
    "name": "ipython",
    "version": 3
   },
   "file_extension": ".py",
   "mimetype": "text/x-python",
   "name": "python",
   "nbconvert_exporter": "python",
   "pygments_lexer": "ipython3",
   "version": "3.7.4"
  }
 },
 "nbformat": 4,
 "nbformat_minor": 4
}
